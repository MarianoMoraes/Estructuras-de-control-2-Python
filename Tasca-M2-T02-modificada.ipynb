{
 "cells": [
  {
   "cell_type": "markdown",
   "id": "d9818c76",
   "metadata": {},
   "source": [
    "# - Exercici 1\n",
    "### L'exercici consisteix a crear un programa que et classifiqui una variable numèrica en funció de l’escala Suspès/Aprovat/Notable/Excel·lent.\n",
    "### Recorda que Suspès < 5, Aprovat > 5 i < 7, Notable > 7 i < 9 i Excel·lent > 9."
   ]
  },
  {
   "cell_type": "code",
   "execution_count": 2,
   "id": "8097b0d3",
   "metadata": {},
   "outputs": [
    {
     "name": "stdout",
     "output_type": "stream",
     "text": [
      "Ingrese la nota del alumno: 6.5\n",
      "La nota del alumno es Aprobado.\n"
     ]
    }
   ],
   "source": [
    "def nota_final(nota):\n",
    "    if nota < 5:\n",
    "        return \"Suspendido\"\n",
    "    elif 5 <= nota <= 7: # Establecer rangos entre 5 y 7 \n",
    "        return \"Aprobado\"\n",
    "    elif 7 <= nota <= 9: # Establecer rangos entre 7 y 9 \n",
    "        return \"Notable\"\n",
    "    else:\n",
    "        return \"Excelente\"\n",
    "\n",
    "# input para preguntar la nota del alumno\n",
    "nota = float(input(\"Ingrese la nota del alumno: \"))\n",
    "\n",
    "# variable para saber si cual es el resultado.\n",
    "resultado = nota_final(nota)\n",
    "\n",
    "# print para mostrar el resultado\n",
    "print(f\"La nota del alumno es {resultado}.\")"
   ]
  },
  {
   "cell_type": "markdown",
   "id": "745dc451",
   "metadata": {},
   "source": [
    "# - Exercici 2\n",
    "### Utilitzant el següent tutorial crea un programa que et pregunti dos números. T’ha de mostrar #un missatge dient si el primer és més gran, el segon és més gran o són iguals."
   ]
  },
  {
   "cell_type": "code",
   "execution_count": 7,
   "id": "8d82fd1b",
   "metadata": {},
   "outputs": [
    {
     "name": "stdout",
     "output_type": "stream",
     "text": [
      "ingresa el primer numero: 1\n",
      "ingresa el segundo numero: 3\n",
      "el numero mas grande es 3.0.\n"
     ]
    }
   ],
   "source": [
    "def funcion():\n",
    "\n",
    "# Inputs float para pedir al usuario dos numeros, incluso con decimales.\n",
    "    num1 = float(input(\"ingresa el primer numero: \"))\n",
    "    num2 = float(input(\"ingresa el segundo numero: \"))\n",
    "\n",
    "    if num1 > num2:\n",
    "        print(f\"el numero mas grande es {num1}.\")\n",
    "    elif num2 == num1:\n",
    "        print(\"ambos numeros son iguales.\")\n",
    "    else: \n",
    "        print(f\"el numero mas grande es {num2}.\")\n",
    "    \n",
    "funcion()\n"
   ]
  },
  {
   "cell_type": "markdown",
   "id": "dce90c8c",
   "metadata": {},
   "source": [
    "# - Exercici 3\n",
    "### Crea un programa que et pregunti el teu nom, i et demani un número. Si el número és 0, hauria de mostrar un missatge d’error. En cas contrari, hauria de mostrar el nom repetit tants cops com indiqui el número. Per exemple, “Joan Joan Joan”."
   ]
  },
  {
   "cell_type": "code",
   "execution_count": 9,
   "id": "bbf9b7b5",
   "metadata": {},
   "outputs": [
    {
     "name": "stdout",
     "output_type": "stream",
     "text": [
      "escribe tu nombre: mariano\n",
      "escribe un numero: 6\n",
      "mariano mariano mariano mariano mariano mariano \n"
     ]
    }
   ],
   "source": [
    "def funcion():\n",
    "    # input para pedir nombre y numero\n",
    "    nombre = input(\"escribe tu nombre: \")\n",
    "    numero = int(input(\"escribe un numero: \"))\n",
    "    calculo = numero * (nombre + \" \") # multiplicar numero x nombre y concatenar un espacio en el str \n",
    "\n",
    "    if numero == 0: # si el numero es cero imprimir error\n",
    "        print(\"0 es un numero erroneo\")\n",
    "    else:    \n",
    "        print (f\"{calculo}\")\n",
    "        \n",
    "funcion()\n"
   ]
  },
  {
   "cell_type": "markdown",
   "id": "b44d74af",
   "metadata": {},
   "source": [
    "# - Exercici 4\n",
    "### Crea un programa que donada una llista qualsevol, et digui si és simètrica o no. Si ho és, que et digui quants elements té."
   ]
  },
  {
   "cell_type": "code",
   "execution_count": 6,
   "id": "4b961377",
   "metadata": {},
   "outputs": [
    {
     "name": "stdout",
     "output_type": "stream",
     "text": [
      "Ingrese una lista de números separados por espacios: 1 2 3 1 1 1 3 2 1\n",
      "La lista es simétrica.\n"
     ]
    }
   ],
   "source": [
    "def lista_simetrica(lista):\n",
    "    longitud = len(lista) # determinamos la longitud de la lista\n",
    "\n",
    "    for i in range(longitud): # iteramos sobre cada numero de la lista \n",
    "        if lista[i] != lista[longitud - 1 - i]: # comparamos cada numero iterado con su correspondiente opuesto en la lista \n",
    "            return False\n",
    "\n",
    "    return True\n",
    "\n",
    "# mediante un imput pedimos al usuario que ingrese numeros separados por espacios y lo convertimos en una lista de enteros\n",
    "numeros = input(\"Ingrese una lista de números separados por espacios: \").split()\n",
    "numeros = [int(num) for num in numeros]\n",
    "\n",
    "# verificamos si la lista es simétrica\n",
    "if lista_simetrica(numeros):\n",
    "    print(\"La lista es simétrica.\")\n",
    "else:\n",
    "    cantidad_numeros = len(numeros)\n",
    "    print(f\"La lista no es simétrica. Se ingresaron {cantidad_numeros} números.\") # si no es simetrica devolvemos por pantalla la cantidad de numeros que se ingresaron."
   ]
  },
  {
   "cell_type": "markdown",
   "id": "851f3a73",
   "metadata": {},
   "source": [
    "# - Exercici 5\n",
    "### Crea un programa que donada una llista, et digui quants números coincideixen amb la seva posició. Per exemple [3,4,2,0,2,3,6] el 2 i el 6 coincideixen."
   ]
  },
  {
   "cell_type": "code",
   "execution_count": 7,
   "id": "43bb89ad",
   "metadata": {},
   "outputs": [
    {
     "name": "stdout",
     "output_type": "stream",
     "text": [
      "Ingrese una lista de números separados por espacios: 1 1 2 3 4 4 4 7 8 9\n",
      "La cantidad de números que coinciden con su posición es: 7\n"
     ]
    }
   ],
   "source": [
    "def contador_coincidencias(lista):\n",
    "    contador = 0 #setear el contador a 0 ya que la primera posicion es 0\n",
    "    for i in range(len(lista)): #rango largo de lista\n",
    "        if lista[i] == i:\n",
    "            contador += 1\n",
    "    return contador\n",
    "\n",
    "# input para pedir al ususario que elija los numeros separados por espacios\n",
    "numeros = input(\"Ingrese una lista de números separados por espacios: \").split() #split para agrupar los numeros ingresados en un lista.\n",
    "numeros = [int(num) for num in numeros]\n",
    "\n",
    "# Contar las coincidencias\n",
    "coincidencias = contador_coincidencias(numeros)\n",
    "\n",
    "# imprimir el resultado\n",
    "print(\"La cantidad de números que coinciden con su posición es:\", coincidencias)"
   ]
  },
  {
   "cell_type": "code",
   "execution_count": null,
   "id": "53cb8000",
   "metadata": {},
   "outputs": [],
   "source": []
  }
 ],
 "metadata": {
  "kernelspec": {
   "display_name": "Python 3 (ipykernel)",
   "language": "python",
   "name": "python3"
  },
  "language_info": {
   "codemirror_mode": {
    "name": "ipython",
    "version": 3
   },
   "file_extension": ".py",
   "mimetype": "text/x-python",
   "name": "python",
   "nbconvert_exporter": "python",
   "pygments_lexer": "ipython3",
   "version": "3.10.9"
  }
 },
 "nbformat": 4,
 "nbformat_minor": 5
}
